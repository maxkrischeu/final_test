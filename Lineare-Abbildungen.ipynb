{
 "cells": [
  {
   "cell_type": "markdown",
   "id": "8221c1f2-9615-437e-96ed-847768718f9e",
   "metadata": {},
   "source": [
    "# Lineare Abbildungen"
   ]
  },
  {
   "cell_type": "markdown",
   "id": "f4edb299",
   "metadata": {},
   "source": [
    "Das ist ein Test."
   ]
  },
  {
   "cell_type": "code",
   "execution_count": 1,
   "id": "6865c05c-a15c-48d4-9059-69844408c803",
   "metadata": {
    "editable": true,
    "slideshow": {
     "slide_type": ""
    },
    "tags": []
   },
   "outputs": [
    {
     "data": {
      "application/vnd.jupyter.widget-view+json": {
       "model_id": "1a427b8951ff4705a1e31643cbe8555f",
       "version_major": 2,
       "version_minor": 0
      },
      "text/plain": [
       "interactive(children=(IntSlider(value=5, description='x', max=10), Output()), _dom_classes=('widget-interact',…"
      ]
     },
     "metadata": {},
     "output_type": "display_data"
    },
    {
     "data": {
      "text/plain": [
       "<function __main__.show_square(x)>"
      ]
     },
     "execution_count": 1,
     "metadata": {},
     "output_type": "execute_result"
    }
   ],
   "source": [
    "# If you haven’t installed ipywidgets yet, run this in your notebook once:\n",
    "# !pip install ipywidgets\n",
    "\n",
    "from ipywidgets import interact\n",
    "\n",
    "def show_square(x):\n",
    "    \"\"\"Prints the square of x.\"\"\"\n",
    "    print(f\"{x}² = {x**2}\")\n",
    "\n",
    "# A slider from 0 to 10 stepping by 1\n",
    "interact(show_square, x=(0, 10, 1))"
   ]
  },
  {
   "cell_type": "code",
   "execution_count": null,
   "id": "415d506f",
   "metadata": {},
   "outputs": [],
   "source": []
  }
 ],
 "metadata": {
  "kernelspec": {
   "display_name": ".venv",
   "language": "python",
   "name": "python3"
  },
  "language_info": {
   "codemirror_mode": {
    "name": "ipython",
    "version": 3
   },
   "file_extension": ".py",
   "mimetype": "text/x-python",
   "name": "python",
   "nbconvert_exporter": "python",
   "pygments_lexer": "ipython3",
   "version": "3.13.2"
  }
 },
 "nbformat": 4,
 "nbformat_minor": 5
}
